{
 "cells": [
  {
   "cell_type": "markdown",
   "metadata": {},
   "source": [
    "## Homework for the class \"Advanced Data Analysis with Python\""
   ]
  },
  {
   "cell_type": "markdown",
   "metadata": {},
   "source": [
    "We will start with some basic exercises with Pandas, Seaborn and NumPy."
   ]
  },
  {
   "cell_type": "markdown",
   "metadata": {},
   "source": [
    "## Dataset exploration\n",
    "### `Pandas` first"
   ]
  },
  {
   "cell_type": "markdown",
   "metadata": {},
   "source": [
    "Now, let's open again the dataset that we used in class:"
   ]
  },
  {
   "cell_type": "code",
   "execution_count": 31,
   "metadata": {},
   "outputs": [
    {
     "name": "stdout",
     "output_type": "stream",
     "text": [
      "Path to dataset files: /home/cgraiff/.cache/kagglehub/datasets/yasserh/housing-prices-dataset/versions/1\n",
      "Path to dataset files: /home/cgraiff/.cache/kagglehub/datasets/yasserh/housing-prices-dataset/versions/1\n",
      "['Housing.csv']\n",
      "/home/cgraiff/.cache/kagglehub/datasets/yasserh/housing-prices-dataset/versions/1/Housing.csv\n"
     ]
    }
   ],
   "source": [
    "# Open the dataset\n",
    "\n",
    "import kagglehub\n",
    "import os\n",
    "\n",
    "# Download latest version\n",
    "path = kagglehub.dataset_download(\"yasserh/housing-prices-dataset\")\n",
    "#path = kagglehub.dataset_download(\"ignacioazua/world-gdp-population-and-co2-emissions-dataset\")\n",
    "\n",
    "print(\"Path to dataset files:\", path)\n",
    "\n",
    "print(\"Path to dataset files:\", path) # Path to the downloaded folder \n",
    "filename = os.listdir(path)\n",
    "print(filename) # Shows content of the folder\n",
    "#filepath=os.path.join(path, \"World_GDP_Population_CO2_Emissions_Dataset.csv\")\n",
    "filepath=os.path.join(path, \"Housing.csv\")\n",
    "print(filepath)"
   ]
  },
  {
   "cell_type": "code",
   "execution_count": 32,
   "metadata": {},
   "outputs": [],
   "source": [
    "# Importing necessary libraries for the analysis\n",
    "\n",
    "import pandas as pd\n",
    "import numpy as np\n",
    "import seaborn as sns\n",
    "import matplotlib.pyplot as plt\n",
    "\n"
   ]
  },
  {
   "cell_type": "code",
   "execution_count": 33,
   "metadata": {},
   "outputs": [
    {
     "data": {
      "text/html": [
       "<div>\n",
       "<style scoped>\n",
       "    .dataframe tbody tr th:only-of-type {\n",
       "        vertical-align: middle;\n",
       "    }\n",
       "\n",
       "    .dataframe tbody tr th {\n",
       "        vertical-align: top;\n",
       "    }\n",
       "\n",
       "    .dataframe thead th {\n",
       "        text-align: right;\n",
       "    }\n",
       "</style>\n",
       "<table border=\"1\" class=\"dataframe\">\n",
       "  <thead>\n",
       "    <tr style=\"text-align: right;\">\n",
       "      <th></th>\n",
       "      <th>price</th>\n",
       "      <th>area</th>\n",
       "      <th>bedrooms</th>\n",
       "      <th>bathrooms</th>\n",
       "      <th>stories</th>\n",
       "      <th>mainroad</th>\n",
       "      <th>guestroom</th>\n",
       "      <th>basement</th>\n",
       "      <th>hotwaterheating</th>\n",
       "      <th>airconditioning</th>\n",
       "      <th>parking</th>\n",
       "      <th>prefarea</th>\n",
       "      <th>furnishingstatus</th>\n",
       "    </tr>\n",
       "  </thead>\n",
       "  <tbody>\n",
       "    <tr>\n",
       "      <th>0</th>\n",
       "      <td>13300000</td>\n",
       "      <td>7420</td>\n",
       "      <td>4</td>\n",
       "      <td>2</td>\n",
       "      <td>3</td>\n",
       "      <td>yes</td>\n",
       "      <td>no</td>\n",
       "      <td>no</td>\n",
       "      <td>no</td>\n",
       "      <td>yes</td>\n",
       "      <td>2</td>\n",
       "      <td>yes</td>\n",
       "      <td>furnished</td>\n",
       "    </tr>\n",
       "    <tr>\n",
       "      <th>1</th>\n",
       "      <td>12250000</td>\n",
       "      <td>8960</td>\n",
       "      <td>4</td>\n",
       "      <td>4</td>\n",
       "      <td>4</td>\n",
       "      <td>yes</td>\n",
       "      <td>no</td>\n",
       "      <td>no</td>\n",
       "      <td>no</td>\n",
       "      <td>yes</td>\n",
       "      <td>3</td>\n",
       "      <td>no</td>\n",
       "      <td>furnished</td>\n",
       "    </tr>\n",
       "    <tr>\n",
       "      <th>2</th>\n",
       "      <td>12250000</td>\n",
       "      <td>9960</td>\n",
       "      <td>3</td>\n",
       "      <td>2</td>\n",
       "      <td>2</td>\n",
       "      <td>yes</td>\n",
       "      <td>no</td>\n",
       "      <td>yes</td>\n",
       "      <td>no</td>\n",
       "      <td>no</td>\n",
       "      <td>2</td>\n",
       "      <td>yes</td>\n",
       "      <td>semi-furnished</td>\n",
       "    </tr>\n",
       "    <tr>\n",
       "      <th>3</th>\n",
       "      <td>12215000</td>\n",
       "      <td>7500</td>\n",
       "      <td>4</td>\n",
       "      <td>2</td>\n",
       "      <td>2</td>\n",
       "      <td>yes</td>\n",
       "      <td>no</td>\n",
       "      <td>yes</td>\n",
       "      <td>no</td>\n",
       "      <td>yes</td>\n",
       "      <td>3</td>\n",
       "      <td>yes</td>\n",
       "      <td>furnished</td>\n",
       "    </tr>\n",
       "    <tr>\n",
       "      <th>4</th>\n",
       "      <td>11410000</td>\n",
       "      <td>7420</td>\n",
       "      <td>4</td>\n",
       "      <td>1</td>\n",
       "      <td>2</td>\n",
       "      <td>yes</td>\n",
       "      <td>yes</td>\n",
       "      <td>yes</td>\n",
       "      <td>no</td>\n",
       "      <td>yes</td>\n",
       "      <td>2</td>\n",
       "      <td>no</td>\n",
       "      <td>furnished</td>\n",
       "    </tr>\n",
       "  </tbody>\n",
       "</table>\n",
       "</div>"
      ],
      "text/plain": [
       "      price  area  bedrooms  bathrooms  stories mainroad guestroom basement  \\\n",
       "0  13300000  7420         4          2        3      yes        no       no   \n",
       "1  12250000  8960         4          4        4      yes        no       no   \n",
       "2  12250000  9960         3          2        2      yes        no      yes   \n",
       "3  12215000  7500         4          2        2      yes        no      yes   \n",
       "4  11410000  7420         4          1        2      yes       yes      yes   \n",
       "\n",
       "  hotwaterheating airconditioning  parking prefarea furnishingstatus  \n",
       "0              no             yes        2      yes        furnished  \n",
       "1              no             yes        3       no        furnished  \n",
       "2              no              no        2      yes   semi-furnished  \n",
       "3              no             yes        3      yes        furnished  \n",
       "4              no             yes        2       no        furnished  "
      ]
     },
     "execution_count": 33,
     "metadata": {},
     "output_type": "execute_result"
    }
   ],
   "source": [
    "# Read dataset into a pandas dataframe\n",
    "df = pd.read_csv(filepath) \n",
    "\n",
    "# Visualize the first 5 rows\n",
    "df.head()"
   ]
  },
  {
   "cell_type": "markdown",
   "metadata": {},
   "source": [
    "### Description\n",
    "Get a summary of the dataframe and inspect it. Use the methods introduced in class."
   ]
  },
  {
   "cell_type": "code",
   "execution_count": null,
   "metadata": {},
   "outputs": [],
   "source": [
    "# Insert your code here"
   ]
  },
  {
   "cell_type": "markdown",
   "metadata": {},
   "source": [
    "### Dataframe Manipulation\n",
    "\n",
    "- Create a boolean column has_air_conditioning.\n",
    "- Create a boolean column has_4_bathrooms."
   ]
  },
  {
   "cell_type": "code",
   "execution_count": null,
   "metadata": {},
   "outputs": [],
   "source": [
    "# Insert your code here"
   ]
  },
  {
   "cell_type": "markdown",
   "metadata": {},
   "source": [
    "### Filtering\n",
    "\n",
    "- Sort the DataFrame by area descending.\n",
    "\n",
    "- Sort by area ascending, then by price descending."
   ]
  },
  {
   "cell_type": "code",
   "execution_count": null,
   "metadata": {},
   "outputs": [],
   "source": [
    "# Insert your code here"
   ]
  },
  {
   "cell_type": "markdown",
   "metadata": {},
   "source": [
    "### Re-sampling, shuffling\n",
    "\n",
    "- Randomly sample 5 rows from the DataFrame.\n",
    "\n",
    "- Shuffle all rows of the DataFrame."
   ]
  },
  {
   "cell_type": "code",
   "execution_count": null,
   "metadata": {},
   "outputs": [],
   "source": [
    "# Insert your code here"
   ]
  },
  {
   "cell_type": "markdown",
   "metadata": {},
   "source": [
    "## Visualization\n",
    "### We will now use visualization libraries such as `Seaborn` and `Matplotlib`.\n",
    "During the last lesson, **there were some questions about `pairplot()`**. By default, `pairplot()` generates a matrix of scatterplots. On the diagonal of the matrix, `pairplot()` generates histograms. As we said, it is possible to customize this function.\n",
    "Explore the documentation of this function: https://seaborn.pydata.org/generated/seaborn.pairplot.html and come up with an interesting visualization of your choice that you can interpret."
   ]
  },
  {
   "cell_type": "code",
   "execution_count": null,
   "metadata": {},
   "outputs": [],
   "source": [
    "# Insert code here"
   ]
  },
  {
   "cell_type": "markdown",
   "metadata": {},
   "source": [
    "## Numerical computing\n",
    "### `NumPy` time!"
   ]
  },
  {
   "cell_type": "markdown",
   "metadata": {},
   "source": [
    "Now, let's do some NumPy exercises. To do so, let's convert some columns of the Pandas dataframe into a NumPy array.\n",
    "Remember, NumPy is useful for **numerical computation**!"
   ]
  },
  {
   "cell_type": "code",
   "execution_count": 34,
   "metadata": {},
   "outputs": [],
   "source": [
    "col_price = df['price'].to_numpy()\n",
    "col_area = df['area'].to_numpy()\n",
    "col_price_area = df[['price', 'area']].to_numpy()"
   ]
  },
  {
   "cell_type": "code",
   "execution_count": 35,
   "metadata": {},
   "outputs": [
    {
     "name": "stdout",
     "output_type": "stream",
     "text": [
      "[13300000 12250000 12250000 12215000 11410000 10850000 10150000 10150000\n",
      "  9870000  9800000  9800000  9681000  9310000  9240000  9240000  9100000\n",
      "  9100000  8960000  8890000  8855000  8750000  8680000  8645000  8645000\n",
      "  8575000  8540000  8463000  8400000  8400000  8400000  8400000  8400000\n",
      "  8295000  8190000  8120000  8080940  8043000  7980000  7962500  7910000\n",
      "  7875000  7840000  7700000  7700000  7560000  7560000  7525000  7490000\n",
      "  7455000  7420000  7420000  7420000  7350000  7350000  7350000  7350000\n",
      "  7343000  7245000  7210000  7210000  7140000  7070000  7070000  7035000\n",
      "  7000000  6930000  6930000  6895000  6860000  6790000  6790000  6755000\n",
      "  6720000  6685000  6650000  6650000  6650000  6650000  6650000  6650000\n",
      "  6629000  6615000  6615000  6580000  6510000  6510000  6510000  6475000\n",
      "  6475000  6440000  6440000  6419000  6405000  6300000  6300000  6300000\n",
      "  6300000  6300000  6293000  6265000  6230000  6230000  6195000  6195000\n",
      "  6195000  6160000  6160000  6125000  6107500  6090000  6090000  6090000\n",
      "  6083000  6083000  6020000  6020000  6020000  5950000  5950000  5950000\n",
      "  5950000  5950000  5950000  5950000  5950000  5943000  5880000  5880000\n",
      "  5873000  5873000  5866000  5810000  5810000  5810000  5803000  5775000\n",
      "  5740000  5740000  5740000  5740000  5740000  5652500  5600000  5600000\n",
      "  5600000  5600000  5600000  5600000  5600000  5600000  5600000  5565000\n",
      "  5565000  5530000  5530000  5530000  5523000  5495000  5495000  5460000\n",
      "  5460000  5460000  5460000  5425000  5390000  5383000  5320000  5285000\n",
      "  5250000  5250000  5250000  5250000  5250000  5250000  5250000  5250000\n",
      "  5250000  5243000  5229000  5215000  5215000  5215000  5145000  5145000\n",
      "  5110000  5110000  5110000  5110000  5075000  5040000  5040000  5040000\n",
      "  5040000  5033000  5005000  4970000  4970000  4956000  4935000  4907000\n",
      "  4900000  4900000  4900000  4900000  4900000  4900000  4900000  4900000\n",
      "  4900000  4900000  4900000  4900000  4893000  4893000  4865000  4830000\n",
      "  4830000  4830000  4830000  4795000  4795000  4767000  4760000  4760000\n",
      "  4760000  4753000  4690000  4690000  4690000  4690000  4690000  4690000\n",
      "  4655000  4620000  4620000  4620000  4620000  4620000  4613000  4585000\n",
      "  4585000  4550000  4550000  4550000  4550000  4550000  4550000  4550000\n",
      "  4543000  4543000  4515000  4515000  4515000  4515000  4480000  4480000\n",
      "  4480000  4480000  4480000  4473000  4473000  4473000  4445000  4410000\n",
      "  4410000  4403000  4403000  4403000  4382000  4375000  4340000  4340000\n",
      "  4340000  4340000  4340000  4319000  4305000  4305000  4277000  4270000\n",
      "  4270000  4270000  4270000  4270000  4270000  4235000  4235000  4200000\n",
      "  4200000  4200000  4200000  4200000  4200000  4200000  4200000  4200000\n",
      "  4200000  4200000  4200000  4200000  4200000  4200000  4200000  4200000\n",
      "  4193000  4193000  4165000  4165000  4165000  4130000  4130000  4123000\n",
      "  4098500  4095000  4095000  4095000  4060000  4060000  4060000  4060000\n",
      "  4060000  4025000  4025000  4025000  4007500  4007500  3990000  3990000\n",
      "  3990000  3990000  3990000  3920000  3920000  3920000  3920000  3920000\n",
      "  3920000  3920000  3885000  3885000  3850000  3850000  3850000  3850000\n",
      "  3850000  3850000  3850000  3836000  3815000  3780000  3780000  3780000\n",
      "  3780000  3780000  3780000  3773000  3773000  3773000  3745000  3710000\n",
      "  3710000  3710000  3710000  3710000  3703000  3703000  3675000  3675000\n",
      "  3675000  3675000  3640000  3640000  3640000  3640000  3640000  3640000\n",
      "  3640000  3640000  3640000  3633000  3605000  3605000  3570000  3570000\n",
      "  3570000  3570000  3535000  3500000  3500000  3500000  3500000  3500000\n",
      "  3500000  3500000  3500000  3500000  3500000  3500000  3500000  3500000\n",
      "  3500000  3500000  3500000  3500000  3493000  3465000  3465000  3465000\n",
      "  3430000  3430000  3430000  3430000  3430000  3430000  3423000  3395000\n",
      "  3395000  3395000  3360000  3360000  3360000  3360000  3360000  3360000\n",
      "  3360000  3360000  3353000  3332000  3325000  3325000  3290000  3290000\n",
      "  3290000  3290000  3290000  3290000  3290000  3290000  3255000  3255000\n",
      "  3234000  3220000  3220000  3220000  3220000  3150000  3150000  3150000\n",
      "  3150000  3150000  3150000  3150000  3150000  3150000  3143000  3129000\n",
      "  3118850  3115000  3115000  3115000  3087000  3080000  3080000  3080000\n",
      "  3080000  3045000  3010000  3010000  3010000  3010000  3010000  3010000\n",
      "  3010000  3003000  2975000  2961000  2940000  2940000  2940000  2940000\n",
      "  2940000  2940000  2940000  2940000  2870000  2870000  2870000  2870000\n",
      "  2852500  2835000  2835000  2835000  2800000  2800000  2730000  2730000\n",
      "  2695000  2660000  2660000  2660000  2660000  2660000  2660000  2660000\n",
      "  2653000  2653000  2604000  2590000  2590000  2590000  2520000  2520000\n",
      "  2520000  2485000  2485000  2450000  2450000  2450000  2450000  2450000\n",
      "  2450000  2408000  2380000  2380000  2380000  2345000  2310000  2275000\n",
      "  2275000  2275000  2240000  2233000  2135000  2100000  2100000  2100000\n",
      "  1960000  1890000  1890000  1855000  1820000  1767150  1750000  1750000\n",
      "  1750000]\n"
     ]
    }
   ],
   "source": [
    "print(col_price)"
   ]
  },
  {
   "cell_type": "code",
   "execution_count": 36,
   "metadata": {},
   "outputs": [
    {
     "name": "stdout",
     "output_type": "stream",
     "text": [
      "[ 7420  8960  9960  7500  7420  7500  8580 16200  8100  5750 13200  6000\n",
      "  6550  3500  7800  6000  6600  8500  4600  6420  4320  7155  8050  4560\n",
      "  8800  6540  6000  8875  7950  5500  7475  7000  4880  5960  6840  7000\n",
      "  7482  9000  6000  6000  6550  6360  6480  6000  6000  6000  6000  6600\n",
      "  4300  7440  7440  6325  6000  5150  6000  6000 11440  9000  7680  6000\n",
      "  6000  8880  6240  6360 11175  8880 13200  7700  6000 12090  4000  6000\n",
      "  5020  6600  4040  4260  6420  6500  5700  6000  6000  4000 10500  6000\n",
      "  3760  8250  6670  3960  7410  8580  5000  6750  4800  7200  6000  4100\n",
      "  9000  6400  6600  6000  6600  5500  5500  6350  5500  4500  5450  6420\n",
      "  3240  6615  6600  8372  4300  9620  6800  8000  6900  3700  6420  7020\n",
      "  6540  7231  6254  7320  6525 15600  7160  6500  5500 11460  4800  5828\n",
      "  5200  4800  7000  6000  5400  4640  5000  6360  5800  6660 10500  4800\n",
      "  4700  5000 10500  5500  6360  6600  5136  4400  5400  3300  3650  6100\n",
      "  6900  2817  7980  3150  6210  6100  6600  6825  6710  6450  7800  4600\n",
      "  4260  6540  5500 10269  8400  5300  3800  9800  8520  6050  7085  3180\n",
      "  4500  7200  3410  7980  3000  3000 11410  6100  5720  3540  7600 10700\n",
      "  6600  4800  8150  4410  7686  2800  5948  4200  4520  4095  4120  5400\n",
      "  4770  6300  5800  3000  2970  6720  4646 12900  3420  4995  4350  4160\n",
      "  6040  6862  4815  7000  8100  3420  9166  6321 10240  6440  5170  6000\n",
      "  3630  9667  5400  4320  3745  4160  3880  5680  2870  5010  4510  4000\n",
      "  3840  3760  3640  2550  5320  5360  3520  8400  4100  4990  3510  3450\n",
      "  9860  3520  4510  5885  4000  8250  4040  6360  3162  3510  3750  3968\n",
      "  4900  2880  4880  4920  4950  3900  4500  1905  4075  3500  6450  4032\n",
      "  4400 10360  3400  6360  6360  4500  2175  4360  7770  6650  2787  5500\n",
      "  5040  5850  2610  2953  2747  4410  4000  2325  4600  3640  5800  7000\n",
      "  4079  3520  2145  4500  8250  3450  4840  4080  4046  4632  5985  6060\n",
      "  3600  3680  4040  5600  5900  4992  4340  3000  4320  3630  3460  5400\n",
      "  4500  3460  4100  6480  4500  3960  4050  7260  5500  3000  3290  3816\n",
      "  8080  2145  3780  3180  5300  3180  7152  4080  3850  2015  2176  3350\n",
      "  3150  4820  3420  3600  5830  2856  8400  8250  2520  6930  3480  3600\n",
      "  4040  6020  4050  3584  3120  5450  3630  3630  5640  3600  4280  3570\n",
      "  3180  3000  3520  5960  4130  2850  2275  3520  4500  4000  3150  4500\n",
      "  4500  3640  3850  4240  3650  4600  2135  3036  3990  7424  3480  3600\n",
      "  3640  5900  3120  7350  3512  9500  5880 12944  4900  3060  5320  2145\n",
      "  4000  3185  3850  2145  2610  1950  4040  4785  3450  3640  3500  4960\n",
      "  4120  4750  3720  3750  3100  3185  2700  2145  4040  4775  2500  3180\n",
      "  6060  3480  3792  4040  2145  5880  4500  3930  3640  4370  2684  4320\n",
      "  3120  3450  3986  3500  4095  1650  3450  6750  9000  3069  4500  5495\n",
      "  2398  3000  3850  3500  8100  4960  2160  3090  4500  3800  3090  3240\n",
      "  2835  4600  5076  3750  3630  8050  4352  3000  5850  4960  3600  3660\n",
      "  3480  2700  3150  6615  3040  3630  6000  5400  5200  3300  4350  2640\n",
      "  2650  3960  6800  4000  4000  3934  2000  3630  2800  2430  3480  4000\n",
      "  3185  4000  2910  3600  4400  3600  2880  3180  3000  4400  3000  3210\n",
      "  3240  3000  3500  4840  7700  3635  2475  2787  3264  3640  3180  1836\n",
      "  3970  3970  1950  5300  3000  2400  3000  3360  3420  1700  3649  2990\n",
      "  3000  2400  3620  2910  3850]\n"
     ]
    }
   ],
   "source": [
    "print(col_area)"
   ]
  },
  {
   "cell_type": "code",
   "execution_count": 37,
   "metadata": {},
   "outputs": [
    {
     "name": "stdout",
     "output_type": "stream",
     "text": [
      "[[13300000     7420]\n",
      " [12250000     8960]\n",
      " [12250000     9960]\n",
      " ...\n",
      " [ 1750000     3620]\n",
      " [ 1750000     2910]\n",
      " [ 1750000     3850]]\n"
     ]
    }
   ],
   "source": [
    "print(col_price_area)"
   ]
  },
  {
   "cell_type": "markdown",
   "metadata": {},
   "source": [
    "### Summary statistics\n",
    "\n",
    "For the price array and the area array, compute:\n",
    "  - Mean\n",
    "  - Median\n",
    "  - Standard deviation\n",
    "  - Maximum and minimum values"
   ]
  },
  {
   "cell_type": "code",
   "execution_count": 38,
   "metadata": {},
   "outputs": [],
   "source": [
    "# Insert your code here"
   ]
  },
  {
   "cell_type": "markdown",
   "metadata": {},
   "source": [
    "### Normalization and Scaling\n",
    "First, let's give a basic explanation these two fundamental concepts, without delving into the details:\n",
    " - **Normalization** is the process of rescaling values to a fixed range (0 to 1).\n",
    "                    $$\n",
    "                    x' = \\frac{x - x_{\\min}}{x_{\\max} - x_{\\min}}\n",
    "                    $$\n",
    "\n",
    " - **Scaling** (or **standardization**) is the process of transforming data to have a mean of 0 and a standard deviation of 1.\n",
    "                    $$\n",
    "                    x' = \\frac{x - \\mu}{\\sigma}\n",
    "                    $$\n",
    "(Recall: $\\mu$ is the mean, $\\sigma$ is the standard deviation). <br><br>\n",
    "\n",
    "These strategies are used both for EDA (e.g., when you want to compare features that are in different ranges) and in methods that are necessary for machine learning and that we will see in the future lessons, such as Principal Component Analysis (PCA). <br><br>\n",
    "\n",
    "Now, perform scaling and normalization: normalize the numeric column, and standardize the price column.\n",
    "Hint: Implement directly the above formulae. Take this as an opportunity to **write your own function**, so that you can exercise! (Remember: Function start with `def function(parameters)`...)\n",
    "\n",
    "> Remember that one huge advantage of NumPy is vectorization, and the fact that - differently from Python lists - you do not need to compute most operations element-wise (e.g. you don't need for loops!)"
   ]
  },
  {
   "cell_type": "code",
   "execution_count": 46,
   "metadata": {},
   "outputs": [],
   "source": [
    "# Insert your code here\n"
   ]
  },
  {
   "cell_type": "markdown",
   "metadata": {},
   "source": [
    "### Filtering\n",
    "Select all rows where column area > mean of column area.\n",
    "\n",
    "Count the number of rows where column area is above its median.\n",
    "\n",
    "Replace all values lower than 4000 in the area column."
   ]
  },
  {
   "cell_type": "code",
   "execution_count": 40,
   "metadata": {},
   "outputs": [],
   "source": [
    "# Insert your code here"
   ]
  },
  {
   "cell_type": "markdown",
   "metadata": {},
   "source": [
    "### Correlation\n",
    "Compute the correlation coefficient between the area and the price column using `np.corrcoef`."
   ]
  },
  {
   "cell_type": "code",
   "execution_count": 41,
   "metadata": {},
   "outputs": [],
   "source": [
    "# Insert your code here"
   ]
  }
 ],
 "metadata": {
  "kernelspec": {
   "display_name": "transf_env",
   "language": "python",
   "name": "python3"
  },
  "language_info": {
   "codemirror_mode": {
    "name": "ipython",
    "version": 3
   },
   "file_extension": ".py",
   "mimetype": "text/x-python",
   "name": "python",
   "nbconvert_exporter": "python",
   "pygments_lexer": "ipython3",
   "version": "3.12.9"
  }
 },
 "nbformat": 4,
 "nbformat_minor": 2
}
